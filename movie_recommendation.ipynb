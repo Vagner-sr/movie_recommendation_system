{
 "cells": [
  {
   "cell_type": "markdown",
   "metadata": {},
   "source": [
    "# 0. Imports and set up"
   ]
  },
  {
   "cell_type": "code",
   "execution_count": 16,
   "metadata": {},
   "outputs": [],
   "source": [
    "import numpy as np\n",
    "import pandas as pd\n",
    "import json\n",
    "import warnings\n",
    "warnings.filterwarnings(\"ignore\")"
   ]
  },
  {
   "cell_type": "code",
   "execution_count": 17,
   "metadata": {},
   "outputs": [],
   "source": [
    "movies = pd.read_csv('movies.csv')\n",
    "credits = pd.read_csv('credits.csv')\n",
    "\n",
    "df_raw = movies.merge(credits, on='title', how='left')"
   ]
  },
  {
   "cell_type": "markdown",
   "metadata": {},
   "source": [
    "# 1.0 Data Cleaning and Engineering"
   ]
  },
  {
   "cell_type": "code",
   "execution_count": 18,
   "metadata": {},
   "outputs": [],
   "source": [
    "df1 = df_raw.copy()"
   ]
  },
  {
   "cell_type": "code",
   "execution_count": 19,
   "metadata": {},
   "outputs": [],
   "source": [
    "df_movies = df1[['movie_id', 'title', 'overview', 'genres', 'keywords', 'cast', 'crew']]\n",
    "\n",
    "df_movies['overview'] = df_movies['overview'].fillna(\"\")"
   ]
  },
  {
   "cell_type": "code",
   "execution_count": 20,
   "metadata": {},
   "outputs": [],
   "source": [
    "def get_list(obj):\n",
    "    if pd.isnull(obj):\n",
    "        return []\n",
    "    try:\n",
    "        data = json.loads(obj)\n",
    "        return [i['name'] for i in data]\n",
    "    except:\n",
    "        return []\n",
    "    \n",
    "def get_list3(obj):\n",
    "    if pd.isnull(obj):\n",
    "        return []\n",
    "    try:\n",
    "        data = json.loads(obj)\n",
    "        list =  [i['name'] for i in data]\n",
    "        return list[:3]\n",
    "    except:\n",
    "        return []\n",
    "    \n",
    "def get_director(obj):\n",
    "    if pd.isnull(obj):\n",
    "        return \"\"\n",
    "    try:\n",
    "        data = json.loads(obj)\n",
    "        return [i['name'] for i in data if i['job'] == 'Director']\n",
    "    except:\n",
    "        return \"\"\n",
    "    "
   ]
  },
  {
   "cell_type": "code",
   "execution_count": 21,
   "metadata": {},
   "outputs": [],
   "source": [
    "df_movies['genres'] = df_movies['genres'].apply(get_list)\n",
    "df_movies['keywords'] = df_movies['keywords'].apply(get_list)\n",
    "df_movies['cast'] = df_movies['cast'].apply(get_list3)\n",
    "df_movies['crew'] = df_movies['crew'].apply(get_director)\n",
    "df_movies.rename(columns={'crew': 'director'}, inplace=True)\n",
    "\n",
    "df_movies['overview'] = df_movies['overview'].apply(lambda x: x.split())\n",
    "\n",
    "# Remove Space\n",
    "\n",
    "df_movies['genres'] = df_movies['genres'].apply(lambda x: [i.replace(\" \", \"\") for i in x])\n",
    "df_movies['keywords'] = df_movies['keywords'].apply(lambda x: [i.replace(\" \", \"\") for i in x])\n",
    "df_movies['cast'] = df_movies['cast'].apply(lambda x: [i.replace(\" \", \"\") for i in x])\n",
    "df_movies['director'] = df_movies['director'].apply(lambda x: [i.replace(\" \", \"\") for i in x])\n",
    "df_movies['overview'] = df_movies['overview'].apply(lambda x: [i.replace(\" \", \"\") for i in x])"
   ]
  },
  {
   "cell_type": "code",
   "execution_count": 22,
   "metadata": {},
   "outputs": [],
   "source": [
    "df_movies['tags'] =  df_movies['overview'] + df_movies['genres'] + df_movies['keywords'] + df_movies['cast'] + df_movies['director'] \n",
    "new_df = df_movies[['movie_id', 'title', 'tags']]\n",
    "\n",
    "new_df['tags'] = new_df['tags'].apply(lambda x: \" \".join(x))\n",
    "new_df['tags'] = new_df['tags'].apply(lambda x: x.lower())"
   ]
  },
  {
   "cell_type": "markdown",
   "metadata": {},
   "source": [
    "# 2. Vectorization"
   ]
  },
  {
   "cell_type": "code",
   "execution_count": 23,
   "metadata": {},
   "outputs": [],
   "source": [
    "from sklearn.feature_extraction.text import CountVectorizer\n",
    "import nltk\n",
    "from nltk.stem.porter import PorterStemmer"
   ]
  },
  {
   "cell_type": "code",
   "execution_count": 24,
   "metadata": {},
   "outputs": [],
   "source": [
    "cv = CountVectorizer(max_features=5000, stop_words='english')\n",
    "\n",
    "vectors = cv.fit_transform(new_df['tags']).toarray()"
   ]
  },
  {
   "cell_type": "code",
   "execution_count": 25,
   "metadata": {},
   "outputs": [],
   "source": [
    "ps = PorterStemmer()\n",
    "\n",
    "def steam(text):\n",
    "    y = []\n",
    "    for i in text.split():\n",
    "        y.append(ps.stem(i))\n",
    "    \n",
    "    return \" \".join(y)"
   ]
  },
  {
   "cell_type": "code",
   "execution_count": 26,
   "metadata": {},
   "outputs": [],
   "source": [
    "from sklearn.metrics.pairwise import cosine_similarity\n",
    "\n",
    "similarity = cosine_similarity(vectors)"
   ]
  },
  {
   "cell_type": "code",
   "execution_count": 27,
   "metadata": {},
   "outputs": [],
   "source": [
    "def recommend(movie):\n",
    "    movie_index = new_df[new_df['title'] == movie.title()].index[0]\n",
    "    distances = similarity[movie_index]\n",
    "    movies_list = sorted(list(enumerate(distances)), reverse=True, key= lambda x: x[1])[1:6]\n",
    "\n",
    "    for i in movies_list:\n",
    "        print(new_df.iloc[i[0]].title)"
   ]
  },
  {
   "cell_type": "code",
   "execution_count": 28,
   "metadata": {},
   "outputs": [],
   "source": [
    "import pickle\n",
    "\n",
    "pickle.dump(new_df, open('new_df.pkl', 'wb'))\n",
    "pickle.dump(similarity, open('similarity.pkl', 'wb'))"
   ]
  }
 ],
 "metadata": {
  "kernelspec": {
   "display_name": "Python 3",
   "language": "python",
   "name": "python3"
  },
  "language_info": {
   "codemirror_mode": {
    "name": "ipython",
    "version": 3
   },
   "file_extension": ".py",
   "mimetype": "text/x-python",
   "name": "python",
   "nbconvert_exporter": "python",
   "pygments_lexer": "ipython3",
   "version": "3.9.13"
  }
 },
 "nbformat": 4,
 "nbformat_minor": 2
}
